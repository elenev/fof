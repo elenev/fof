{
 "cells": [
  {
   "cell_type": "code",
   "execution_count": 2,
   "metadata": {},
   "outputs": [],
   "source": [
    "import fof"
   ]
  },
  {
   "cell_type": "markdown",
   "metadata": {},
   "source": [
    "Parse directly from the Fed Board's website. First argument is the path to the output file (will be overwritten). Default value is `FRB_Z1.csv`. Second argument is the URL of the page to parse. Default value is `https://www.federalreserve.gov/datadownload/Output.aspx?rel=Z1&filetype=zip` and should be fine."
   ]
  },
  {
   "cell_type": "code",
   "execution_count": 49,
   "metadata": {},
   "outputs": [],
   "source": [
    "fof.parse_fof('FRB_Z1_test.csv')"
   ]
  },
  {
   "cell_type": "markdown",
   "metadata": {},
   "source": [
    "Alternatively, if the file has already been downloaded and unzipped, the XML file can be parsed directly offline."
   ]
  },
  {
   "cell_type": "code",
   "execution_count": 4,
   "metadata": {},
   "outputs": [],
   "source": [
    "with open('Z1_data.xml', 'r')     as infile, \n",
    "     open('FRB_Z1_test.csv', 'w') as outfile, \n",
    "     open('FRB_Z1_dict.csv', 'w') as dictfile:\n",
    "    fof.buffer_to_csv(infile, outfile, dictfile=dictfile)"
   ]
  }
 ],
 "metadata": {
  "kernelspec": {
   "display_name": "fof",
   "language": "python",
   "name": "python3"
  },
  "language_info": {
   "codemirror_mode": {
    "name": "ipython",
    "version": 3
   },
   "file_extension": ".py",
   "mimetype": "text/x-python",
   "name": "python",
   "nbconvert_exporter": "python",
   "pygments_lexer": "ipython3",
   "version": "undefined.undefined.undefined"
  }
 },
 "nbformat": 4,
 "nbformat_minor": 2
}
